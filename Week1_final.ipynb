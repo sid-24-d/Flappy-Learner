{
 "cells": [
  {
   "cell_type": "code",
   "execution_count": null,
   "id": "91765c91",
   "metadata": {},
   "outputs": [],
   "source": [
    "# STEP 1: Load the libraries we'll use\n",
    "import pandas as pd\n",
    "import seaborn as sns\n",
    "import matplotlib.pyplot as plt\n",
    "\n",
    "from sklearn.model_selection import train_test_split\n",
    "from sklearn.preprocessing import LabelEncoder, StandardScaler\n",
    "from sklearn.linear_model import LogisticRegression, LinearRegression\n",
    "from sklearn.metrics import (\n",
    "    accuracy_score, precision_score, recall_score,\n",
    "    mean_squared_error, r2_score,\n",
    "    confusion_matrix, ConfusionMatrixDisplay\n",
    ")"
   ]
  },
  {
   "cell_type": "code",
   "execution_count": null,
   "id": "a0845bd2",
   "metadata": {},
   "outputs": [],
   "source": [
    "# STEP 2: Load the Titanic dataset\n",
    "\n",
    "data = sns.load_dataset(\"titanic\")\n",
    "df = data.copy()"
   ]
  },
  {
   "cell_type": "code",
   "execution_count": null,
   "id": "b945da26",
   "metadata": {},
   "outputs": [],
   "source": [
    "# STEP 3: Clean the data\n",
    "df.drop(columns=[\"deck\", \"embark_town\", \"alive\"], inplace=True)\n",
    "\n",
    "# Fill missing ages with the median value\n",
    "df[\"age\"].fillna(df[\"age\"].median(), inplace=True)\n",
    "\n",
    "# Drop any other rows with missing values\n",
    "df.dropna(inplace=True)"
   ]
  },
  {
   "cell_type": "code",
   "execution_count": null,
   "id": "83dacd85",
   "metadata": {},
   "outputs": [],
   "source": [
    "# STEP 4: Convert text columns to numbers\n",
    "encoder = LabelEncoder()\n",
    "df[\"sex\"]      = encoder.fit_transform(df[\"sex\"])\n",
    "df[\"embarked\"] = encoder.fit_transform(df[\"embarked\"])"
   ]
  },
  {
   "cell_type": "code",
   "execution_count": null,
   "id": "90bc9216",
   "metadata": {},
   "outputs": [],
   "source": [
    "# STEP 5: Standardize some numeric features\n",
    "columns_to_scale = [\"age\", \"fare\", \"pclass\"]\n",
    "scaler = StandardScaler()\n",
    "df[columns_to_scale] = scaler.fit_transform(df[columns_to_scale])"
   ]
  },
  {
   "cell_type": "code",
   "execution_count": null,
   "id": "75dd438d",
   "metadata": {},
   "outputs": [],
   "source": [
    "# STEP 6: Prepare inputs (X) and target (y)\n",
    "X = df[[\"age\", \"fare\", \"pclass\", \"sex\", \"embarked\"]]\n",
    "y = df[\"survived\"]\n",
    "X_train, X_test, y_train, y_test = train_test_split(\n",
    "    X, y, test_size=0.2, random_state=42, stratify=y\n",
    ")"
   ]
  },
  {
   "cell_type": "code",
   "execution_count": null,
   "id": "b12ae823",
   "metadata": {},
   "outputs": [],
   "source": [
    "# STEP 7: Try Linear Regression (just for fun)\n",
    "linear_model = LinearRegression()\n",
    "linear_model.fit(X_train, y_train)\n",
    "linear_preds = linear_model.predict(X_test)\n",
    "\n",
    "print(\"🔹 Linear Regression Results\")\n",
    "print(f\"Mean Squared Error: {mean_squared_error(y_test, linear_preds):.4f}\")\n",
    "print(f\"R² Score          : {r2_score(y_test, linear_preds):.4f}\\n\")"
   ]
  },
  {
   "cell_type": "code",
   "execution_count": null,
   "id": "5fccce0d",
   "metadata": {},
   "outputs": [],
   "source": [
    "# STEP 8: Try Logistic Regression (better for classification)\n",
    "log_model = LogisticRegression(max_iter=500)\n",
    "log_model.fit(X_train, y_train)\n",
    "log_preds = log_model.predict(X_test)\n",
    "\n",
    "print(\"🔹 Logistic Regression Results\")\n",
    "print(f\"Accuracy : {accuracy_score(y_test, log_preds):.4f}\")\n",
    "print(f\"Precision: {precision_score(y_test, log_preds):.4f}\")\n",
    "print(f\"Recall   : {recall_score(y_test, log_preds):.4f}\")"
   ]
  },
  {
   "cell_type": "code",
   "execution_count": null,
   "id": "94c7598c",
   "metadata": {},
   "outputs": [],
   "source": [
    "# STEP 9: Show a confusion matrix to see how well it did\n",
    "cm = confusion_matrix(y_test, log_preds)\n",
    "disp = ConfusionMatrixDisplay(confusion_matrix=cm)\n",
    "disp.plot()\n",
    "plt.title(\"Confusion Matrix - Logistic Regression\")\n",
    "plt.show()"
   ]
  },
  {
   "cell_type": "code",
   "execution_count": null,
   "id": "4de19133",
   "metadata": {},
   "outputs": [],
   "source": [
    "# STEP 10: Some fun visualizations!\n",
    "fig, axs = plt.subplots(1, 2, figsize=(12, 5))\n",
    "\n",
    "# Age distribution\n",
    "sns.histplot(df[\"age\"], kde=True, ax=axs[0])\n",
    "axs[0].set_title(\"Age Distribution of Passengers\")\n",
    "\n",
    "# Survival by gender\n",
    "sns.countplot(data=df, x=\"sex\", hue=\"survived\", ax=axs[1])\n",
    "axs[1].set_title(\"Survival by Gender\")\n",
    "\n",
    "plt.tight_layout()\n",
    "plt.show()"
   ]
  }
 ],
 "metadata": {
  "language_info": {
   "name": "python"
  }
 },
 "nbformat": 4,
 "nbformat_minor": 5
}
