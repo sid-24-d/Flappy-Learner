{
 "cells": [
  {
   "cell_type": "code",
   "execution_count": 20,
   "id": "73cb6abd",
   "metadata": {},
   "outputs": [
    {
     "name": "stdout",
     "output_type": "stream",
     "text": [
      "100 samples generated.\n"
     ]
    }
   ],
   "source": [
    "import torch\n",
    "\n",
    "# Generate toy data\n",
    "torch.manual_seed(0)\n",
    "X = torch.randn(100, 2)\n",
    "y = ((X[:, 0] + X[:, 1]) > 0).float().view(-1, 1)  # label = 1 if x1 + x2 > 0\n",
    "print(len(X), \"samples generated.\")"
   ]
  },
  {
   "cell_type": "code",
   "execution_count": 21,
   "id": "b3d298f4",
   "metadata": {},
   "outputs": [],
   "source": [
    "W = torch.randn(2, 1)\n",
    "b = torch.randn(1)\n",
    "lr=0.1\n",
    "x_data = X[:int(len(X)*0.8), :]\n",
    "x_test = X[int(len(X)*0.8):, :]\n",
    "y_data = y[:int(len(y)*0.8)]\n",
    "y_test = y[int(len(y)*0.8):]"
   ]
  },
  {
   "cell_type": "code",
   "execution_count": 22,
   "id": "e19778c8",
   "metadata": {},
   "outputs": [
    {
     "name": "stdout",
     "output_type": "stream",
     "text": [
      "Epoch   0 | Loss: 0.7994 | Acc: 47.50%\n",
      "Epoch  10 | Loss: 0.6207 | Acc: 67.50%\n",
      "Epoch  20 | Loss: 0.5169 | Acc: 80.00%\n",
      "Epoch  30 | Loss: 0.4529 | Acc: 87.50%\n",
      "Epoch  40 | Loss: 0.4100 | Acc: 92.50%\n",
      "Epoch  50 | Loss: 0.3792 | Acc: 95.00%\n",
      "Epoch  60 | Loss: 0.3558 | Acc: 96.25%\n",
      "Epoch  70 | Loss: 0.3372 | Acc: 95.00%\n",
      "Epoch  80 | Loss: 0.3221 | Acc: 95.00%\n",
      "Epoch  90 | Loss: 0.3094 | Acc: 96.25%\n"
     ]
    }
   ],
   "source": [
    "for epoch in range(100):\n",
    "    z = x_data@W + b\n",
    "    y_hat=1/(1 + torch.exp(-z))\n",
    "    \n",
    "    loss = -(y_data * torch.log(y_hat ) + (1 - y_data) * torch.log(1 - y_hat)).mean()\n",
    "    dL_dyhat = -(y_data / (y_hat )) + (1 - y_data) / (1 - y_hat )\n",
    "    dyhat_dz = y_hat * (1 - y_hat)                     # sigmoid'\n",
    "    dL_dz = dL_dyhat * dyhat_dz                        # chain rule\n",
    "\n",
    "    dL_dW = x_data.T @ dL_dz / x_data.size(0)                    # shape: (2, 1)\n",
    "    dL_db = dL_dz.mean()\n",
    "    \n",
    "    W -= lr * dL_dW\n",
    "    b -= lr * dL_db\n",
    "\n",
    "    # Print every 10 epochs\n",
    "    if epoch % 10 == 0:\n",
    "        predicted = (y_hat > 0.5).float()\n",
    "        accuracy = (predicted == y_data).float().mean().item()\n",
    "        print(f\"Epoch {epoch:3d} | Loss: {loss.item():.4f} | Acc: {accuracy*100:.2f}%\")  "
   ]
  }
 ],
 "metadata": {
  "kernelspec": {
   "display_name": "env",
   "language": "python",
   "name": "python3"
  },
  "language_info": {
   "codemirror_mode": {
    "name": "ipython",
    "version": 3
   },
   "file_extension": ".py",
   "mimetype": "text/x-python",
   "name": "python",
   "nbconvert_exporter": "python",
   "pygments_lexer": "ipython3",
   "version": "3.12.6"
  }
 },
 "nbformat": 4,
 "nbformat_minor": 5
}
