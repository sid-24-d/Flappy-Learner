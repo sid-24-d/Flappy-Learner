{
 "cells": [
  {
   "cell_type": "code",
   "execution_count": 7,
   "id": "ccb3b349-2cd6-4482-a9ca-6991d25e16d4",
   "metadata": {},
   "outputs": [],
   "source": [
    "import numpy as np\n",
    "\n",
    "grid_size = 5\n",
    "states = [(i, j) for i in range(grid_size) for j in range(grid_size)]\n",
    "actions = ['up', 'down', 'left', 'right']\n",
    "gamma = 0.9\n",
    "theta = 1e-4\n",
    "goal_state = (4, 4)"
   ]
  },
  {
   "cell_type": "code",
   "execution_count": 8,
   "id": "eb489eff-d5ee-4ea2-a132-8ecb367c001b",
   "metadata": {},
   "outputs": [],
   "source": [
    "def next_state(i, j, action):\n",
    "    if (i, j) == goal_state:\n",
    "        return (i, j)\n",
    "    if action == 'up':\n",
    "        return (max(i - 1, 0), j)\n",
    "    if action == 'down':\n",
    "        return (min(i + 1, grid_size - 1), j)\n",
    "    if action == 'left':\n",
    "        return (i, max(j - 1, 0))\n",
    "    if action == 'right':\n",
    "        return (i, min(j + 1, grid_size - 1))\n",
    "\n",
    "def reward_fn(i, j, ni, nj):\n",
    "    return 0 if (ni, nj) == goal_state else -1"
   ]
  },
  {
   "cell_type": "code",
   "execution_count": 9,
   "id": "e862e5a6-28f6-4f51-8902-045b624d5c06",
   "metadata": {},
   "outputs": [],
   "source": [
    "def policy_iteration():\n",
    "    V = np.zeros((grid_size, grid_size))\n",
    "    policy = np.random.choice(actions, size=(grid_size, grid_size))\n",
    "\n",
    "    while True:\n",
    "        # Policy Evaluation\n",
    "        while True:\n",
    "            delta = 0\n",
    "            for i in range(grid_size):\n",
    "                for j in range(grid_size):\n",
    "                    if (i, j) == goal_state:\n",
    "                        continue\n",
    "                    action = policy[i, j]\n",
    "                    ni, nj = next_state(i, j, action)\n",
    "                    reward = reward_fn(i, j, ni, nj)\n",
    "                    v = V[i, j]\n",
    "                    V[i, j] = reward + gamma * V[ni, nj]\n",
    "                    delta = max(delta, abs(v - V[i, j]))\n",
    "            if delta < theta:\n",
    "                break\n",
    "\n",
    "        # Policy Improvement\n",
    "        policy_stable = True\n",
    "        for i in range(grid_size):\n",
    "            for j in range(grid_size):\n",
    "                if (i, j) == goal_state:\n",
    "                    continue\n",
    "                old_action = policy[i, j]\n",
    "                best_action = old_action\n",
    "                best_value = float('-inf')\n",
    "                for action in actions:\n",
    "                    ni, nj = next_state(i, j, action)\n",
    "                    reward = reward_fn(i, j, ni, nj)\n",
    "                    val = reward + gamma * V[ni, nj]\n",
    "                    if val > best_value:\n",
    "                        best_value = val\n",
    "                        best_action = action\n",
    "                policy[i, j] = best_action\n",
    "                if best_action != old_action:\n",
    "                    policy_stable = False\n",
    "        if policy_stable:\n",
    "            break\n",
    "\n",
    "    return V, policy"
   ]
  },
  {
   "cell_type": "code",
   "execution_count": 10,
   "id": "591519d9-60a1-419a-9436-b1600e5f2005",
   "metadata": {},
   "outputs": [
    {
     "name": "stdout",
     "output_type": "stream",
     "text": [
      "Value Function (rounded):\n",
      "[[-5.22 -4.69 -4.1  -3.44 -2.71]\n",
      " [-4.69 -4.1  -3.44 -2.71 -1.9 ]\n",
      " [-4.1  -3.44 -2.71 -1.9  -1.  ]\n",
      " [-3.44 -2.71 -1.9  -1.    0.  ]\n",
      " [-2.71 -1.9  -1.    0.    0.  ]]\n",
      "\n",
      "Optimal Policy:\n",
      "['down' 'down' 'down' 'down' 'down']\n",
      "['down' 'down' 'down' 'down' 'down']\n",
      "['down' 'down' 'down' 'down' 'down']\n",
      "['down' 'down' 'down' 'down' 'down']\n",
      "['right' 'right' 'right' 'right' 'down']\n"
     ]
    }
   ],
   "source": [
    "V, policy = policy_iteration()\n",
    "\n",
    "print(\"Value Function (rounded):\")\n",
    "print(np.round(V, 2))\n",
    "\n",
    "print(\"\\nOptimal Policy:\")\n",
    "for row in policy:\n",
    "    print(row)"
   ]
  },
  {
   "cell_type": "code",
   "execution_count": null,
   "id": "8e4c6b8d-7603-486c-9a9e-eca1924748f7",
   "metadata": {},
   "outputs": [],
   "source": []
  }
 ],
 "metadata": {
  "kernelspec": {
   "display_name": "Python [conda env:base] *",
   "language": "python",
   "name": "conda-base-py"
  },
  "language_info": {
   "codemirror_mode": {
    "name": "ipython",
    "version": 3
   },
   "file_extension": ".py",
   "mimetype": "text/x-python",
   "name": "python",
   "nbconvert_exporter": "python",
   "pygments_lexer": "ipython3",
   "version": "3.13.5"
  }
 },
 "nbformat": 4,
 "nbformat_minor": 5
}
